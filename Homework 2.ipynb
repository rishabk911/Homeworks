{
 "cells": [
  {
   "cell_type": "markdown",
   "id": "bd6ff0cd",
   "metadata": {},
   "source": [
    "Question 1. Using while loop, as long as n is less than 10, print out n. However, when n equals to 5, stop the loop."
   ]
  },
  {
   "cell_type": "code",
   "execution_count": 1,
   "id": "e1b4879e",
   "metadata": {},
   "outputs": [
    {
     "name": "stdout",
     "output_type": "stream",
     "text": [
      "0\n",
      "1\n",
      "2\n",
      "3\n",
      "4\n"
     ]
    }
   ],
   "source": [
    "n = 0\n",
    "while n < 10:\n",
    "    print(n)\n",
    "    n += 1\n",
    "    if n == 5:\n",
    "        break"
   ]
  },
  {
   "cell_type": "markdown",
   "id": "d955552e",
   "metadata": {},
   "source": [
    "Question 2. Using while loop, initialize n = 0. While n < 5, print out n. Otherwise, print out n \"is not less than 5\"."
   ]
  },
  {
   "cell_type": "code",
   "execution_count": 2,
   "id": "88a3f02d",
   "metadata": {},
   "outputs": [
    {
     "name": "stdout",
     "output_type": "stream",
     "text": [
      "0\n",
      "1\n",
      "2\n",
      "3\n",
      "4\n",
      "5 is not less than 5\n"
     ]
    }
   ],
   "source": [
    "n = 0\n",
    "while n < 5:\n",
    "     print(n)\n",
    "     n += 1\n",
    "     if n == 5:\n",
    "        print(n,\"is not less than 5\")"
   ]
  },
  {
   "cell_type": "markdown",
   "id": "3cf61852",
   "metadata": {},
   "source": [
    "Question 3. Create your favorite fruits list. Using the for loop, print out all the fruits in your list. However, when one fruit name equals to \"apple\", stop the loop."
   ]
  },
  {
   "cell_type": "code",
   "execution_count": 53,
   "id": "516f555e",
   "metadata": {},
   "outputs": [
    {
     "name": "stdout",
     "output_type": "stream",
     "text": [
      "I like grapes\n",
      "I like banana\n",
      "I like orange\n",
      "apple is really a fruit?\n"
     ]
    }
   ],
   "source": [
    "favorite_fruits = [\"grapes\",\"banana\",\"orange\",\"apple\",\"pear\"]\n",
    "for fruit in favorite_fruits:\n",
    "    if fruit == \"apple\":\n",
    "        break\n",
    "    print(\"I like \" + fruit)\n",
    "print(fruit + \" is really a fruit?\")"
   ]
  },
  {
   "cell_type": "markdown",
   "id": "40a8dad2",
   "metadata": {},
   "source": [
    "Question 4. Add all the integers from 1 to 30 and print out the sum using a while loop."
   ]
  },
  {
   "cell_type": "code",
   "execution_count": 5,
   "id": "6e33a676",
   "metadata": {},
   "outputs": [
    {
     "name": "stdout",
     "output_type": "stream",
     "text": [
      "465\n"
     ]
    }
   ],
   "source": [
    "number = 0\n",
    "sum = 0\n",
    "while number <= 30:\n",
    "    sum = sum + number\n",
    "    number += 1\n",
    "print(sum)"
   ]
  },
  {
   "cell_type": "markdown",
   "id": "dee3205d",
   "metadata": {},
   "source": [
    "Question 5. Use if..elif...else statements to help grade students' score. You can define grade yourself."
   ]
  },
  {
   "cell_type": "code",
   "execution_count": 6,
   "id": "98f6f110",
   "metadata": {},
   "outputs": [
    {
     "name": "stdout",
     "output_type": "stream",
     "text": [
      "Your grade is an F\n"
     ]
    }
   ],
   "source": [
    "grade = 59\n",
    "if grade >= 90:\n",
    "    print(\"Your grade is an A\")\n",
    "elif grade >= 80:\n",
    "    print(\"Your grade is a B\")\n",
    "elif grade >= 70:\n",
    "    print(\"Your grade is a C\")\n",
    "elif grade >= 60:\n",
    "    print(\"Your grade is a D\")\n",
    "else:\n",
    "    print(\"Your grade is an F\")"
   ]
  },
  {
   "cell_type": "markdown",
   "id": "1177f6e3",
   "metadata": {},
   "source": [
    "Question 6. Define a dictionary, composed with students' names and their grades."
   ]
  },
  {
   "cell_type": "code",
   "execution_count": 7,
   "id": "443f7cd5",
   "metadata": {},
   "outputs": [],
   "source": [
    "marks = {\"Andy\":88,\"Amy\":66,\"James\":90,\"Jules\":55,\"Arthur\":77}"
   ]
  },
  {
   "cell_type": "markdown",
   "id": "f3388b7f",
   "metadata": {},
   "source": [
    "Question 6.1: [0.5 point]\n",
    "Using for loop, print out all the students names and their grades."
   ]
  },
  {
   "cell_type": "code",
   "execution_count": 52,
   "id": "deb6c056",
   "metadata": {},
   "outputs": [
    {
     "name": "stdout",
     "output_type": "stream",
     "text": [
      "Andy: 88\n",
      "Amy: 66\n",
      "James: 90\n",
      "Jules: 55\n",
      "Arthur: 77\n"
     ]
    }
   ],
   "source": [
    "for student,grade in marks.items():\n",
    "    print(student + \": \" + str(grade))"
   ]
  },
  {
   "cell_type": "markdown",
   "id": "bc2f0def",
   "metadata": {},
   "source": [
    "Question 6.2: [0.5 point] Of this dictionary, calculate all the student’s mean grade, maximal grade, and minimal grade."
   ]
  },
  {
   "cell_type": "code",
   "execution_count": 51,
   "id": "d4550849",
   "metadata": {},
   "outputs": [
    {
     "name": "stdout",
     "output_type": "stream",
     "text": [
      "The mean grade for the students is 75.2.\n",
      "The maximal grade for the students is 90.\n",
      "The minimal grade for the students is 55.\n"
     ]
    }
   ],
   "source": [
    "class_grade = 0\n",
    "mean_grade = 0\n",
    "for students,grades in marks.items():\n",
    "    class_grade += grades\n",
    "mean_grade = class_grade / len(marks.values())\n",
    "print(\"The mean grade for the students is \"+ str(mean_grade) + \".\")\n",
    "print(\"The maximal grade for the students is \" + str(max(marks.values()))+\".\")\n",
    "print(\"The minimal grade for the students is \" + str(min(marks.values()))+\".\")"
   ]
  },
  {
   "cell_type": "markdown",
   "id": "b1b7b775",
   "metadata": {},
   "source": [
    "Question 6.3: [0.5 point] Using for loop or while loop, for all the keys in the dictionary, print out key. However, if ‘J’ appears, stop the loop."
   ]
  },
  {
   "cell_type": "code",
   "execution_count": 58,
   "id": "388aa9dd",
   "metadata": {},
   "outputs": [
    {
     "name": "stdout",
     "output_type": "stream",
     "text": [
      "Andy\n",
      "Amy\n"
     ]
    }
   ],
   "source": [
    "for key in marks.keys():\n",
    "    for letter in key:\n",
    "        if letter == \"J\":\n",
    "            break\n",
    "        print(key)\n",
    "        break\n",
    "    if letter == \"J\":\n",
    "         break"
   ]
  },
  {
   "cell_type": "markdown",
   "id": "8aaa6674",
   "metadata": {},
   "source": [
    "Question 6.4: [0.5 point]\n",
    "Using for loop or while loop, for all the keys in the dictionary, print out key. However, if ‘J’ appears,\n",
    "skip this key, and continue the loop."
   ]
  },
  {
   "cell_type": "markdown",
   "id": "afcf12b2",
   "metadata": {},
   "source": [
    "Solution 1: Using break and continue statements as well as a variable to track how many times J appears in a name."
   ]
  },
  {
   "cell_type": "code",
   "execution_count": 59,
   "id": "4d0a9c40",
   "metadata": {},
   "outputs": [
    {
     "name": "stdout",
     "output_type": "stream",
     "text": [
      "Andy\n",
      "Amy\n",
      "Arthur\n"
     ]
    }
   ],
   "source": [
    "number_of_Js = 0\n",
    "for key in marks.keys():\n",
    "    number_of_Js = 0\n",
    "    for letter in key:\n",
    "        if letter == \"J\":\n",
    "            number_of_Js = 1\n",
    "            continue\n",
    "        if number_of_Js == 1:\n",
    "            break\n",
    "        print(key)\n",
    "        break"
   ]
  },
  {
   "cell_type": "markdown",
   "id": "8e117bfa",
   "metadata": {},
   "source": [
    "Solution 2: Using both break and continue statements."
   ]
  },
  {
   "cell_type": "code",
   "execution_count": 60,
   "id": "ef98aa19",
   "metadata": {},
   "outputs": [
    {
     "name": "stdout",
     "output_type": "stream",
     "text": [
      "Andy\n",
      "Amy\n",
      "Arthur\n"
     ]
    }
   ],
   "source": [
    "for key in marks.keys():\n",
    "    for letter in key:\n",
    "        if letter == \"J\":\n",
    "            break\n",
    "    if letter == \"J\":\n",
    "        continue\n",
    "    print(key)"
   ]
  },
  {
   "cell_type": "markdown",
   "id": "9b89d986",
   "metadata": {},
   "source": [
    "Solution 3: Using only break statements."
   ]
  },
  {
   "cell_type": "code",
   "execution_count": 61,
   "id": "e7cda30a",
   "metadata": {},
   "outputs": [
    {
     "name": "stdout",
     "output_type": "stream",
     "text": [
      "Andy\n",
      "Amy\n",
      "Arthur\n"
     ]
    }
   ],
   "source": [
    "for key in marks.keys():\n",
    "    for letter in key:\n",
    "        if letter == \"J\":\n",
    "            break\n",
    "        print(key)\n",
    "        break"
   ]
  }
 ],
 "metadata": {
  "kernelspec": {
   "display_name": "Python 3 (ipykernel)",
   "language": "python",
   "name": "python3"
  },
  "language_info": {
   "codemirror_mode": {
    "name": "ipython",
    "version": 3
   },
   "file_extension": ".py",
   "mimetype": "text/x-python",
   "name": "python",
   "nbconvert_exporter": "python",
   "pygments_lexer": "ipython3",
   "version": "3.9.7"
  }
 },
 "nbformat": 4,
 "nbformat_minor": 5
}
