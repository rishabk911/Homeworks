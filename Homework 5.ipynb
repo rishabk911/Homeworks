{
 "cells": [
  {
   "cell_type": "markdown",
   "id": "4719c2bb",
   "metadata": {},
   "source": [
    "Question 1: Use R to create the following two matrices and do the indicated matrix multiplication\n",
    "\n",
    "What is the resulting matrix? (1.5 points)"
   ]
  },
  {
   "cell_type": "code",
   "execution_count": 1,
   "id": "bc8821ea",
   "metadata": {},
   "outputs": [
    {
     "data": {
      "text/html": [
       "<table>\n",
       "<tbody>\n",
       "\t<tr><td>7 </td><td>9 </td><td>12</td></tr>\n",
       "\t<tr><td>2 </td><td>4 </td><td>13</td></tr>\n",
       "</tbody>\n",
       "</table>\n"
      ],
      "text/latex": [
       "\\begin{tabular}{lll}\n",
       "\t 7  & 9  & 12\\\\\n",
       "\t 2  & 4  & 13\\\\\n",
       "\\end{tabular}\n"
      ],
      "text/markdown": [
       "\n",
       "| 7  | 9  | 12 |\n",
       "| 2  | 4  | 13 |\n",
       "\n"
      ],
      "text/plain": [
       "     [,1] [,2] [,3]\n",
       "[1,] 7    9    12  \n",
       "[2,] 2    4    13  "
      ]
     },
     "metadata": {},
     "output_type": "display_data"
    }
   ],
   "source": [
    "matrix1 = matrix(c(7,2,9,4,12,13), nrow = 2, ncol = 3)  # creates matrix with 2 rows and 3 columns\n",
    "matrix1"
   ]
  },
  {
   "cell_type": "code",
   "execution_count": 2,
   "id": "fab31e65",
   "metadata": {},
   "outputs": [
    {
     "data": {
      "text/html": [
       "<table>\n",
       "<tbody>\n",
       "\t<tr><td>1 </td><td>7 </td><td>12</td><td>19</td></tr>\n",
       "\t<tr><td>2 </td><td>8 </td><td>13</td><td>20</td></tr>\n",
       "\t<tr><td>3 </td><td>9 </td><td>14</td><td>21</td></tr>\n",
       "</tbody>\n",
       "</table>\n"
      ],
      "text/latex": [
       "\\begin{tabular}{llll}\n",
       "\t 1  & 7  & 12 & 19\\\\\n",
       "\t 2  & 8  & 13 & 20\\\\\n",
       "\t 3  & 9  & 14 & 21\\\\\n",
       "\\end{tabular}\n"
      ],
      "text/markdown": [
       "\n",
       "| 1  | 7  | 12 | 19 |\n",
       "| 2  | 8  | 13 | 20 |\n",
       "| 3  | 9  | 14 | 21 |\n",
       "\n"
      ],
      "text/plain": [
       "     [,1] [,2] [,3] [,4]\n",
       "[1,] 1    7    12   19  \n",
       "[2,] 2    8    13   20  \n",
       "[3,] 3    9    14   21  "
      ]
     },
     "metadata": {},
     "output_type": "display_data"
    }
   ],
   "source": [
    "matrix2 = matrix(c(1,2,3,7,8,9,12,13,14,19,20,21), nrow = 3, ncol = 4) # creates matrix with 3 rows and 4 columns\n",
    "matrix2"
   ]
  },
  {
   "cell_type": "code",
   "execution_count": 4,
   "id": "9083826e",
   "metadata": {},
   "outputs": [
    {
     "data": {
      "text/html": [
       "<table>\n",
       "<tbody>\n",
       "\t<tr><td>61 </td><td>229</td><td>369</td><td>565</td></tr>\n",
       "\t<tr><td>49 </td><td>163</td><td>258</td><td>391</td></tr>\n",
       "</tbody>\n",
       "</table>\n"
      ],
      "text/latex": [
       "\\begin{tabular}{llll}\n",
       "\t 61  & 229 & 369 & 565\\\\\n",
       "\t 49  & 163 & 258 & 391\\\\\n",
       "\\end{tabular}\n"
      ],
      "text/markdown": [
       "\n",
       "| 61  | 229 | 369 | 565 |\n",
       "| 49  | 163 | 258 | 391 |\n",
       "\n"
      ],
      "text/plain": [
       "     [,1] [,2] [,3] [,4]\n",
       "[1,] 61   229  369  565 \n",
       "[2,] 49   163  258  391 "
      ]
     },
     "metadata": {},
     "output_type": "display_data"
    }
   ],
   "source": [
    "matrix1 %*% matrix2   # does matrix multiplication"
   ]
  },
  {
   "cell_type": "markdown",
   "id": "44c697fb",
   "metadata": {},
   "source": [
    "Question 2: [total 2.5 points]"
   ]
  },
  {
   "cell_type": "markdown",
   "id": "8d92eacf",
   "metadata": {},
   "source": [
    "a. Create a data frame like the following table (0. 5 points)."
   ]
  },
  {
   "cell_type": "code",
   "execution_count": 48,
   "id": "6c244db4",
   "metadata": {},
   "outputs": [
    {
     "data": {
      "text/html": [
       "<table>\n",
       "<thead><tr><th scope=col>id</th><th scope=col>name</th><th scope=col>salary</th></tr></thead>\n",
       "<tbody>\n",
       "\t<tr><td>1       </td><td>Peter   </td><td>623.30  </td></tr>\n",
       "\t<tr><td>2       </td><td>Amy     </td><td>515.20  </td></tr>\n",
       "\t<tr><td>3       </td><td>Ryan    </td><td>611.00  </td></tr>\n",
       "\t<tr><td>4       </td><td>Gary    </td><td>729.00  </td></tr>\n",
       "\t<tr><td>5       </td><td>Michelle</td><td>843.25  </td></tr>\n",
       "</tbody>\n",
       "</table>\n"
      ],
      "text/latex": [
       "\\begin{tabular}{r|lll}\n",
       " id & name & salary\\\\\n",
       "\\hline\n",
       "\t 1        & Peter    & 623.30  \\\\\n",
       "\t 2        & Amy      & 515.20  \\\\\n",
       "\t 3        & Ryan     & 611.00  \\\\\n",
       "\t 4        & Gary     & 729.00  \\\\\n",
       "\t 5        & Michelle & 843.25  \\\\\n",
       "\\end{tabular}\n"
      ],
      "text/markdown": [
       "\n",
       "| id | name | salary |\n",
       "|---|---|---|\n",
       "| 1        | Peter    | 623.30   |\n",
       "| 2        | Amy      | 515.20   |\n",
       "| 3        | Ryan     | 611.00   |\n",
       "| 4        | Gary     | 729.00   |\n",
       "| 5        | Michelle | 843.25   |\n",
       "\n"
      ],
      "text/plain": [
       "  id name     salary\n",
       "1 1  Peter    623.30\n",
       "2 2  Amy      515.20\n",
       "3 3  Ryan     611.00\n",
       "4 4  Gary     729.00\n",
       "5 5  Michelle 843.25"
      ]
     },
     "metadata": {},
     "output_type": "display_data"
    }
   ],
   "source": [
    "data_table <- data.frame(   # creates data frame with id, name, and salary\n",
    "    id = c(1,2,3,4,5),\n",
    "    name = c(\"Peter\", \"Amy\", \"Ryan\", \"Gary\", \"Michelle\"),\n",
    "    salary = c(623.30, 515.20, 611.00, 729.00, 843.25)\n",
    ")\n",
    "data_table"
   ]
  },
  {
   "cell_type": "markdown",
   "id": "16bd0e52",
   "metadata": {},
   "source": [
    "b. Then add a column of “department”, and assign department names for the 5 persons, for example,\n",
    "IT, finance, computer science, etc., name your own. (0.5 points)."
   ]
  },
  {
   "cell_type": "code",
   "execution_count": 51,
   "id": "cb90ba7f",
   "metadata": {},
   "outputs": [
    {
     "data": {
      "text/html": [
       "<table>\n",
       "<thead><tr><th scope=col>id</th><th scope=col>name</th><th scope=col>salary</th><th scope=col>Department</th></tr></thead>\n",
       "<tbody>\n",
       "\t<tr><td>1               </td><td>Peter           </td><td>623.30          </td><td>IT              </td></tr>\n",
       "\t<tr><td>2               </td><td>Amy             </td><td>515.20          </td><td>Finance         </td></tr>\n",
       "\t<tr><td>3               </td><td>Ryan            </td><td>611.00          </td><td>Computer Science</td></tr>\n",
       "\t<tr><td>4               </td><td>Gary            </td><td>729.00          </td><td>Statistics      </td></tr>\n",
       "\t<tr><td>5               </td><td>Michelle        </td><td>843.25          </td><td>Mathematics     </td></tr>\n",
       "</tbody>\n",
       "</table>\n"
      ],
      "text/latex": [
       "\\begin{tabular}{r|llll}\n",
       " id & name & salary & Department\\\\\n",
       "\\hline\n",
       "\t 1                & Peter            & 623.30           & IT              \\\\\n",
       "\t 2                & Amy              & 515.20           & Finance         \\\\\n",
       "\t 3                & Ryan             & 611.00           & Computer Science\\\\\n",
       "\t 4                & Gary             & 729.00           & Statistics      \\\\\n",
       "\t 5                & Michelle         & 843.25           & Mathematics     \\\\\n",
       "\\end{tabular}\n"
      ],
      "text/markdown": [
       "\n",
       "| id | name | salary | Department |\n",
       "|---|---|---|---|\n",
       "| 1                | Peter            | 623.30           | IT               |\n",
       "| 2                | Amy              | 515.20           | Finance          |\n",
       "| 3                | Ryan             | 611.00           | Computer Science |\n",
       "| 4                | Gary             | 729.00           | Statistics       |\n",
       "| 5                | Michelle         | 843.25           | Mathematics      |\n",
       "\n"
      ],
      "text/plain": [
       "  id name     salary Department      \n",
       "1 1  Peter    623.30 IT              \n",
       "2 2  Amy      515.20 Finance         \n",
       "3 3  Ryan     611.00 Computer Science\n",
       "4 4  Gary     729.00 Statistics      \n",
       "5 5  Michelle 843.25 Mathematics     "
      ]
     },
     "metadata": {},
     "output_type": "display_data"
    }
   ],
   "source": [
    "new_data_table <- cbind(data_table, # creates new column called \"Department\" with multiple sections\n",
    "                        Department = c(\"IT\",\"Finance\",\"Computer Science\",\"Statistics\",\"Mathematics\"))\n",
    "new_data_table   "
   ]
  },
  {
   "cell_type": "markdown",
   "id": "ec25f10f",
   "metadata": {},
   "source": [
    "c. Extract 1st, 3rd, and 5th rows, with 2nd and 3rd columns, using c function. (0.5 points)."
   ]
  },
  {
   "cell_type": "code",
   "execution_count": 52,
   "id": "813ead30",
   "metadata": {},
   "outputs": [
    {
     "data": {
      "text/html": [
       "<table>\n",
       "<thead><tr><th></th><th scope=col>id</th><th scope=col>Department</th></tr></thead>\n",
       "<tbody>\n",
       "\t<tr><th scope=row>2</th><td>2         </td><td>Finance   </td></tr>\n",
       "\t<tr><th scope=row>4</th><td>4         </td><td>Statistics</td></tr>\n",
       "</tbody>\n",
       "</table>\n"
      ],
      "text/latex": [
       "\\begin{tabular}{r|ll}\n",
       "  & id & Department\\\\\n",
       "\\hline\n",
       "\t2 & 2          & Finance   \\\\\n",
       "\t4 & 4          & Statistics\\\\\n",
       "\\end{tabular}\n"
      ],
      "text/markdown": [
       "\n",
       "| <!--/--> | id | Department |\n",
       "|---|---|---|\n",
       "| 2 | 2          | Finance    |\n",
       "| 4 | 4          | Statistics |\n",
       "\n"
      ],
      "text/plain": [
       "  id Department\n",
       "2 2  Finance   \n",
       "4 4  Statistics"
      ]
     },
     "metadata": {},
     "output_type": "display_data"
    }
   ],
   "source": [
    "extracted_data_table <- new_data_table[-c(1,3,5), -c(2,3)]   # extracts rows 1,3, and 5 as well as columns 2 and 3\n",
    "extracted_data_table "
   ]
  },
  {
   "cell_type": "markdown",
   "id": "6b613a70",
   "metadata": {},
   "source": [
    "d. plot a bar chart to show the salary of row 1,4,5 and label the bar with people’s name correspondingly.\n",
    "(0.5 points)."
   ]
  },
  {
   "cell_type": "code",
   "execution_count": 47,
   "id": "a1803b59",
   "metadata": {},
   "outputs": [
    {
     "data": {
      "image/png": "[encoded data removed]",
      "text/plain": [
       "Plot with title \"Salaries of People\""
      ]
     },
     "metadata": {},
     "output_type": "display_data"
    }
   ],
   "source": [
    "x <- c(\"Peter\", \"Gary\", \"Michelle\")   # creates bar graph of information in rows 1, 4, and 5\n",
    "y <- c(623.30, 729.00, 843.25)\n",
    "barplot(y, names.arg = x, main = \"Salaries of People\", xlab = \"People\", ylab = \"Salary (in dollars)\")"
   ]
  },
  {
   "cell_type": "markdown",
   "id": "48faa1a6",
   "metadata": {},
   "source": [
    "e. plot a pie chart, based on this data framework, only showing the highest salary, lowest salary, and\n",
    "median salary, give your plot a title, and label each pie. (0.5 points)."
   ]
  },
  {
   "cell_type": "code",
   "execution_count": 59,
   "id": "2116b8f2",
   "metadata": {},
   "outputs": [
    {
     "data": {
      "image/png": "[encoded data removed]",
      "text/plain": [
       "Plot with title \"Salary Statistics\""
      ]
     },
     "metadata": {},
     "output_type": "display_data"
    }
   ],
   "source": [
    "max_salary = max(data_table$salary)  # creates variable containing highest salary in data frame\n",
    "min_salary = min(data_table$salary)  # creates variable containing lowest salary in data frame\n",
    "median_salary = median(data_table$salary)    # creates variable containing median salary in data frame\n",
    "\n",
    "sections <- c(max_salary, min_salary, median_salary)  # make sections of pie graph into aforementioned variables\n",
    "mylabel <- c(\"Highest Salary\",\"Lowest Salary\",\"Median Salary\")  # labels sections of pie graphs\n",
    "\n",
    "pie(sections, label = mylabel, main = \"Salary Statistics\")   # creates main pie graph"
   ]
  },
  {
   "cell_type": "markdown",
   "id": "a91f8142",
   "metadata": {},
   "source": [
    "Question 3: Total 6 points"
   ]
  },
  {
   "cell_type": "markdown",
   "id": "bd3c1c10",
   "metadata": {},
   "source": [
    "Use R. Choose one from the following questions. [Note: The purpose of these questions is to practice\n",
    "the whole pipeline from real life needs, from data collection, to data processing, and program design,\n",
    "analysis, and visualization. If you feel this is too sensitive to show, please change your analysis results\n",
    "and randomize any values.]\n",
    "This question is the same with our midterm project. You may translate your Python code into R."
   ]
  },
  {
   "cell_type": "markdown",
   "id": "e61b26c3",
   "metadata": {},
   "source": [
    "Choice 2: How Much Have You Spent on Amazon? Analyze Amazon Data in different ways, plot your\n",
    "historical transactions amount. You can either summarize that into monthly payment, or show your\n",
    "mean payment, and so on. You can follow https://www.dataquest.io/blog/how-much-spent-amazon-dataanalysis/ to download your Amazon order historical data. "
   ]
  },
  {
   "cell_type": "code",
   "execution_count": 1,
   "id": "f4745ad9",
   "metadata": {},
   "outputs": [
    {
     "data": {
      "text/html": [
       "<table>\n",
       "<thead><tr><th scope=col>Order.Date</th><th scope=col>Order.ID</th><th scope=col>Payment.Instrument.Type</th><th scope=col>Website</th><th scope=col>Purchase.Order.Number</th><th scope=col>Ordering.Customer.Email</th><th scope=col>Shipment.Date</th><th scope=col>Shipping.Address.Name</th><th scope=col>Shipping.Address.Street.1</th><th scope=col>Shipping.Address.Street.2</th><th scope=col>...</th><th scope=col>Order.Status</th><th scope=col>Carrier.Name...Tracking.Number</th><th scope=col>Subtotal</th><th scope=col>Shipping.Charge</th><th scope=col>Tax.Before.Promotions</th><th scope=col>Total.Promotions</th><th scope=col>Tax.Charged</th><th scope=col>Total.Charged</th><th scope=col>Buyer.Name</th><th scope=col>Group.Name</th></tr></thead>\n",
       "<tbody>\n",
       "\t<tr><td>2019-04-01          </td><td>112-0000000-0000001 </td><td>Visa - 0001         </td><td>Amazon.com          </td><td>NA                  </td><td>your_email@gmail.com</td><td>04/01/19            </td><td>Your Name           </td><td>1 YOUR STREET       </td><td>NA                  </td><td>...                 </td><td>Shipped             </td><td>USPS(0001)          </td><td> 35.00              </td><td>0                   </td><td>1.93                </td><td>0                   </td><td>1.93                </td><td> 36.93              </td><td>Your Name           </td><td>NA                  </td></tr>\n",
       "\t<tr><td>2019-04-01          </td><td>112-0000000-0000002 </td><td>Visa - 0001         </td><td>Amazon.com          </td><td>NA                  </td><td>your_email@gmail.com</td><td>04/01/19            </td><td>Your Name           </td><td>1 YOUR STREET       </td><td>NA                  </td><td>...                 </td><td>Shipped             </td><td>USPS(0001)          </td><td> 16.99              </td><td>0                   </td><td>0.00                </td><td>0                   </td><td>0.00                </td><td> 16.99              </td><td>Your Name           </td><td>NA                  </td></tr>\n",
       "\t<tr><td>2019-04-01          </td><td>112-0000000-0000003 </td><td>Visa - 0001         </td><td>Amazon.com          </td><td>NA                  </td><td>your_email@gmail.com</td><td>04/01/19            </td><td>Your Name           </td><td>1 YOUR STREET       </td><td>NA                  </td><td>...                 </td><td>Shipped             </td><td>USPS(0001)          </td><td>  9.99              </td><td>0                   </td><td>0.00                </td><td>0                   </td><td>0.00                </td><td>  9.99              </td><td>Your Name           </td><td>NA                  </td></tr>\n",
       "\t<tr><td>2019-04-04          </td><td>112-0000000-0000004 </td><td>Visa - 0001         </td><td>Amazon.com          </td><td>NA                  </td><td>your_email@gmail.com</td><td>04/05/19            </td><td>Your Name           </td><td>1 YOUR STREET       </td><td>NA                  </td><td>...                 </td><td>Shipped             </td><td>UPS(0002)           </td><td>147.98              </td><td>0                   </td><td>8.14                </td><td>0                   </td><td>8.14                </td><td>156.12              </td><td>Your Name           </td><td>NA                  </td></tr>\n",
       "\t<tr><td>2019-04-05          </td><td>112-0000000-0000005 </td><td>Visa - 0001         </td><td>Amazon.com          </td><td>NA                  </td><td>your_email@gmail.com</td><td>04/07/19            </td><td>Your Name           </td><td>1 YOUR STREET       </td><td>NA                  </td><td>...                 </td><td>Shipped             </td><td>USPS(0001)          </td><td> 14.99              </td><td>0                   </td><td>0.00                </td><td>0                   </td><td>0.00                </td><td> 14.99              </td><td>Your Name           </td><td>NA                  </td></tr>\n",
       "\t<tr><td>2019-04-05          </td><td>112-0000000-0000006 </td><td>Visa - 0001         </td><td>Amazon.com          </td><td>NA                  </td><td>your_email@gmail.com</td><td>04/08/19            </td><td>Your Name           </td><td>1 YOUR STREET       </td><td>NA                  </td><td>...                 </td><td>Shipped             </td><td>USPS(0001)          </td><td> 11.99              </td><td>0                   </td><td>0.66                </td><td>0                   </td><td>0.66                </td><td> 12.65              </td><td>Your Name           </td><td>NA                  </td></tr>\n",
       "</tbody>\n",
       "</table>\n"
      ],
      "text/latex": [
       "\\begin{tabular}{r|lllllllllllllllllllllll}\n",
       " Order.Date & Order.ID & Payment.Instrument.Type & Website & Purchase.Order.Number & Ordering.Customer.Email & Shipment.Date & Shipping.Address.Name & Shipping.Address.Street.1 & Shipping.Address.Street.2 & ... & Order.Status & Carrier.Name...Tracking.Number & Subtotal & Shipping.Charge & Tax.Before.Promotions & Total.Promotions & Tax.Charged & Total.Charged & Buyer.Name & Group.Name\\\\\n",
       "\\hline\n",
       "\t 2019-04-01             & 112-0000000-0000001    & Visa - 0001            & Amazon.com             & NA                     & your\\_email@gmail.com & 04/01/19               & Your Name              & 1 YOUR STREET          & NA                     & ...                    & Shipped                & USPS(0001)             &  35.00                 & 0                      & 1.93                   & 0                      & 1.93                   &  36.93                 & Your Name              & NA                    \\\\\n",
       "\t 2019-04-01             & 112-0000000-0000002    & Visa - 0001            & Amazon.com             & NA                     & your\\_email@gmail.com & 04/01/19               & Your Name              & 1 YOUR STREET          & NA                     & ...                    & Shipped                & USPS(0001)             &  16.99                 & 0                      & 0.00                   & 0                      & 0.00                   &  16.99                 & Your Name              & NA                    \\\\\n",
       "\t 2019-04-01             & 112-0000000-0000003    & Visa - 0001            & Amazon.com             & NA                     & your\\_email@gmail.com & 04/01/19               & Your Name              & 1 YOUR STREET          & NA                     & ...                    & Shipped                & USPS(0001)             &   9.99                 & 0                      & 0.00                   & 0                      & 0.00                   &   9.99                 & Your Name              & NA                    \\\\\n",
       "\t 2019-04-04             & 112-0000000-0000004    & Visa - 0001            & Amazon.com             & NA                     & your\\_email@gmail.com & 04/05/19               & Your Name              & 1 YOUR STREET          & NA                     & ...                    & Shipped                & UPS(0002)              & 147.98                 & 0                      & 8.14                   & 0                      & 8.14                   & 156.12                 & Your Name              & NA                    \\\\\n",
       "\t 2019-04-05             & 112-0000000-0000005    & Visa - 0001            & Amazon.com             & NA                     & your\\_email@gmail.com & 04/07/19               & Your Name              & 1 YOUR STREET          & NA                     & ...                    & Shipped                & USPS(0001)             &  14.99                 & 0                      & 0.00                   & 0                      & 0.00                   &  14.99                 & Your Name              & NA                    \\\\\n",
       "\t 2019-04-05             & 112-0000000-0000006    & Visa - 0001            & Amazon.com             & NA                     & your\\_email@gmail.com & 04/08/19               & Your Name              & 1 YOUR STREET          & NA                     & ...                    & Shipped                & USPS(0001)             &  11.99                 & 0                      & 0.66                   & 0                      & 0.66                   &  12.65                 & Your Name              & NA                    \\\\\n",
       "\\end{tabular}\n"
      ],
      "text/markdown": [
       "\n",
       "| Order.Date | Order.ID | Payment.Instrument.Type | Website | Purchase.Order.Number | Ordering.Customer.Email | Shipment.Date | Shipping.Address.Name | Shipping.Address.Street.1 | Shipping.Address.Street.2 | ... | Order.Status | Carrier.Name...Tracking.Number | Subtotal | Shipping.Charge | Tax.Before.Promotions | Total.Promotions | Tax.Charged | Total.Charged | Buyer.Name | Group.Name |\n",
       "|---|---|---|---|---|---|---|---|---|---|---|---|---|---|---|---|---|---|---|---|---|\n",
       "| 2019-04-01           | 112-0000000-0000001  | Visa - 0001          | Amazon.com           | NA                   | your_email@gmail.com | 04/01/19             | Your Name            | 1 YOUR STREET        | NA                   | ...                  | Shipped              | USPS(0001)           |  35.00               | 0                    | 1.93                 | 0                    | 1.93                 |  36.93               | Your Name            | NA                   |\n",
       "| 2019-04-01           | 112-0000000-0000002  | Visa - 0001          | Amazon.com           | NA                   | your_email@gmail.com | 04/01/19             | Your Name            | 1 YOUR STREET        | NA                   | ...                  | Shipped              | USPS(0001)           |  16.99               | 0                    | 0.00                 | 0                    | 0.00                 |  16.99               | Your Name            | NA                   |\n",
       "| 2019-04-01           | 112-0000000-0000003  | Visa - 0001          | Amazon.com           | NA                   | your_email@gmail.com | 04/01/19             | Your Name            | 1 YOUR STREET        | NA                   | ...                  | Shipped              | USPS(0001)           |   9.99               | 0                    | 0.00                 | 0                    | 0.00                 |   9.99               | Your Name            | NA                   |\n",
       "| 2019-04-04           | 112-0000000-0000004  | Visa - 0001          | Amazon.com           | NA                   | your_email@gmail.com | 04/05/19             | Your Name            | 1 YOUR STREET        | NA                   | ...                  | Shipped              | UPS(0002)            | 147.98               | 0                    | 8.14                 | 0                    | 8.14                 | 156.12               | Your Name            | NA                   |\n",
       "| 2019-04-05           | 112-0000000-0000005  | Visa - 0001          | Amazon.com           | NA                   | your_email@gmail.com | 04/07/19             | Your Name            | 1 YOUR STREET        | NA                   | ...                  | Shipped              | USPS(0001)           |  14.99               | 0                    | 0.00                 | 0                    | 0.00                 |  14.99               | Your Name            | NA                   |\n",
       "| 2019-04-05           | 112-0000000-0000006  | Visa - 0001          | Amazon.com           | NA                   | your_email@gmail.com | 04/08/19             | Your Name            | 1 YOUR STREET        | NA                   | ...                  | Shipped              | USPS(0001)           |  11.99               | 0                    | 0.66                 | 0                    | 0.66                 |  12.65               | Your Name            | NA                   |\n",
       "\n"
      ],
      "text/plain": [
       "  Order.Date Order.ID            Payment.Instrument.Type Website   \n",
       "1 2019-04-01 112-0000000-0000001 Visa - 0001             Amazon.com\n",
       "2 2019-04-01 112-0000000-0000002 Visa - 0001             Amazon.com\n",
       "3 2019-04-01 112-0000000-0000003 Visa - 0001             Amazon.com\n",
       "4 2019-04-04 112-0000000-0000004 Visa - 0001             Amazon.com\n",
       "5 2019-04-05 112-0000000-0000005 Visa - 0001             Amazon.com\n",
       "6 2019-04-05 112-0000000-0000006 Visa - 0001             Amazon.com\n",
       "  Purchase.Order.Number Ordering.Customer.Email Shipment.Date\n",
       "1 NA                    your_email@gmail.com    04/01/19     \n",
       "2 NA                    your_email@gmail.com    04/01/19     \n",
       "3 NA                    your_email@gmail.com    04/01/19     \n",
       "4 NA                    your_email@gmail.com    04/05/19     \n",
       "5 NA                    your_email@gmail.com    04/07/19     \n",
       "6 NA                    your_email@gmail.com    04/08/19     \n",
       "  Shipping.Address.Name Shipping.Address.Street.1 Shipping.Address.Street.2 ...\n",
       "1 Your Name             1 YOUR STREET             NA                        ...\n",
       "2 Your Name             1 YOUR STREET             NA                        ...\n",
       "3 Your Name             1 YOUR STREET             NA                        ...\n",
       "4 Your Name             1 YOUR STREET             NA                        ...\n",
       "5 Your Name             1 YOUR STREET             NA                        ...\n",
       "6 Your Name             1 YOUR STREET             NA                        ...\n",
       "  Order.Status Carrier.Name...Tracking.Number Subtotal Shipping.Charge\n",
       "1 Shipped      USPS(0001)                      35.00   0              \n",
       "2 Shipped      USPS(0001)                      16.99   0              \n",
       "3 Shipped      USPS(0001)                       9.99   0              \n",
       "4 Shipped      UPS(0002)                      147.98   0              \n",
       "5 Shipped      USPS(0001)                      14.99   0              \n",
       "6 Shipped      USPS(0001)                      11.99   0              \n",
       "  Tax.Before.Promotions Total.Promotions Tax.Charged Total.Charged Buyer.Name\n",
       "1 1.93                  0                1.93         36.93        Your Name \n",
       "2 0.00                  0                0.00         16.99        Your Name \n",
       "3 0.00                  0                0.00          9.99        Your Name \n",
       "4 8.14                  0                8.14        156.12        Your Name \n",
       "5 0.00                  0                0.00         14.99        Your Name \n",
       "6 0.66                  0                0.66         12.65        Your Name \n",
       "  Group.Name\n",
       "1 NA        \n",
       "2 NA        \n",
       "3 NA        \n",
       "4 NA        \n",
       "5 NA        \n",
       "6 NA        "
      ]
     },
     "metadata": {},
     "output_type": "display_data"
    }
   ],
   "source": [
    "df = read.csv(\"amazon-orders.csv\")   # reads amazon orders file\n",
    "\n",
    "# code below gets rid of $ for different categories\n",
    "df$Subtotal = as.numeric(gsub(\"\\\\$\",\"\", df$Subtotal))  \n",
    "df$Shipping.Charge = as.numeric(gsub(\"\\\\$\",\"\", df$Shipping.Charge)) \n",
    "df$Tax.Before.Promotions = as.numeric(gsub(\"\\\\$\",\"\", df$Tax.Before.Promotions))\n",
    "df$Total.Promotions = as.numeric(gsub(\"\\\\$\",\"\", df$Total.Promotions)) \n",
    "df$Tax.Charged = as.numeric(gsub(\"\\\\$\",\"\", df$Tax.Charged)) \n",
    "df$Total.Charged = as.numeric(gsub(\"\\\\$\",\"\", df$Total.Charged))\n",
    "\n",
    "df$Order.Date = as.Date(df$Order.Date, \"%m/%d/%y\") # turns order dates into datetime objects\n",
    "\n",
    "head(df)  # displays first five rows of data table"
   ]
  },
  {
   "cell_type": "code",
   "execution_count": 2,
   "id": "921b4724",
   "metadata": {},
   "outputs": [
    {
     "data": {
      "text/html": [
       "1777.73"
      ],
      "text/latex": [
       "1777.73"
      ],
      "text/markdown": [
       "1777.73"
      ],
      "text/plain": [
       "[1] 1777.73"
      ]
     },
     "metadata": {},
     "output_type": "display_data"
    }
   ],
   "source": [
    "# gives sum of total amount spent (adds up amount spent for every order date)\n",
    "sum(df$Total.Charged)"
   ]
  },
  {
   "cell_type": "code",
   "execution_count": 3,
   "id": "33b4ae7a",
   "metadata": {},
   "outputs": [
    {
     "data": {
      "text/html": [
       "30.1310169491525"
      ],
      "text/latex": [
       "30.1310169491525"
      ],
      "text/markdown": [
       "30.1310169491525"
      ],
      "text/plain": [
       "[1] 30.13102"
      ]
     },
     "metadata": {},
     "output_type": "display_data"
    }
   ],
   "source": [
    "# gives average amount spent (total amount overall / number of times something was ordered)\n",
    "mean(df$Total.Charged)"
   ]
  },
  {
   "cell_type": "code",
   "execution_count": 4,
   "id": "9beb3298",
   "metadata": {},
   "outputs": [
    {
     "data": {
      "text/html": [
       "15.95"
      ],
      "text/latex": [
       "15.95"
      ],
      "text/markdown": [
       "15.95"
      ],
      "text/plain": [
       "[1] 15.95"
      ]
     },
     "metadata": {},
     "output_type": "display_data"
    }
   ],
   "source": [
    "# gives median of total amount spent (looks at total charged column and finds middle number after sorting from least to biggest)\n",
    "median(df$Total.Charged)"
   ]
  },
  {
   "cell_type": "code",
   "execution_count": 5,
   "id": "3fa731ea",
   "metadata": {},
   "outputs": [
    {
     "data": {
      "text/html": [
       "1.04"
      ],
      "text/latex": [
       "1.04"
      ],
      "text/markdown": [
       "1.04"
      ],
      "text/plain": [
       "[1] 1.04"
      ]
     },
     "metadata": {},
     "output_type": "display_data"
    }
   ],
   "source": [
    "# gives smallest amount spent \n",
    "min(df$Total.Charged)"
   ]
  },
  {
   "cell_type": "code",
   "execution_count": 6,
   "id": "024df21c",
   "metadata": {},
   "outputs": [
    {
     "data": {
      "text/html": [
       "210.99"
      ],
      "text/latex": [
       "210.99"
      ],
      "text/markdown": [
       "210.99"
      ],
      "text/plain": [
       "[1] 210.99"
      ]
     },
     "metadata": {},
     "output_type": "display_data"
    }
   ],
   "source": [
    "# gives largest amount spent \n",
    "max(df$Total.Charged)"
   ]
  },
  {
   "cell_type": "code",
   "execution_count": 7,
   "id": "7c53204d",
   "metadata": {},
   "outputs": [
    {
     "data": {
      "text/html": [
       "209.95"
      ],
      "text/latex": [
       "209.95"
      ],
      "text/markdown": [
       "209.95"
      ],
      "text/plain": [
       "[1] 209.95"
      ]
     },
     "metadata": {},
     "output_type": "display_data"
    }
   ],
   "source": [
    "# gives range of total amount spent \n",
    "(max(df$Total.Charged) - min(df$Total.Charged))"
   ]
  },
  {
   "cell_type": "code",
   "execution_count": 8,
   "id": "90cec895",
   "metadata": {},
   "outputs": [
    {
     "data": {
      "text/html": [
       "36.4227324665146"
      ],
      "text/latex": [
       "36.4227324665146"
      ],
      "text/markdown": [
       "36.4227324665146"
      ],
      "text/plain": [
       "[1] 36.42273"
      ]
     },
     "metadata": {},
     "output_type": "display_data"
    }
   ],
   "source": [
    "# gives standard deviation of total amount spent \n",
    "sd(df$Total.Charged)"
   ]
  },
  {
   "cell_type": "code",
   "execution_count": 9,
   "id": "d34f5586",
   "metadata": {},
   "outputs": [
    {
     "data": {
      "image/png": "[encoded data removed]",
      "text/plain": [
       "Plot with title \"Distribution of Amount Spent\""
      ]
     },
     "metadata": {},
     "output_type": "display_data"
    }
   ],
   "source": [
    "#creates histogram that shows frequencies of the amount spent\n",
    "hist(df$Total.Charged, main = \"Distribution of Amount Spent\", xlab = \"Ranges of Money Spent\", ylab = \"Frequency\", col = \"blue\")"
   ]
  },
  {
   "cell_type": "code",
   "execution_count": 10,
   "id": "66037fdb",
   "metadata": {},
   "outputs": [
    {
     "name": "stderr",
     "output_type": "stream",
     "text": [
      "also installing the dependency 'rlang'\n",
      "\n"
     ]
    },
    {
     "name": "stdout",
     "output_type": "stream",
     "text": [
      "\n",
      "  There are binary versions available but the source versions are later:\n",
      "      binary source needs_compilation\n",
      "rlang 0.4.11  1.0.2              TRUE\n",
      "dplyr  1.0.6  1.0.8              TRUE\n",
      "\n",
      "  Binaries will be installed\n",
      "package 'rlang' successfully unpacked and MD5 sums checked\n",
      "package 'dplyr' successfully unpacked and MD5 sums checked\n",
      "\n",
      "The downloaded binary packages are in\n",
      "\tC:\\Users\\Rishab\\AppData\\Local\\Temp\\RtmpyqwO7r\\downloaded_packages\n"
     ]
    },
    {
     "name": "stderr",
     "output_type": "stream",
     "text": [
      "Warning message:\n",
      "\"package 'dplyr' was built under R version 3.6.3\"\n",
      "Attaching package: 'dplyr'\n",
      "\n",
      "The following objects are masked from 'package:stats':\n",
      "\n",
      "    filter, lag\n",
      "\n",
      "The following objects are masked from 'package:base':\n",
      "\n",
      "    intersect, setdiff, setequal, union\n",
      "\n"
     ]
    }
   ],
   "source": [
    "install.packages(\"dplyr\") # installs dplyr package\n",
    "library(dplyr) "
   ]
  },
  {
   "cell_type": "code",
   "execution_count": 13,
   "id": "bcdceb1e",
   "metadata": {
    "scrolled": false
   },
   "outputs": [
    {
     "data": {
      "image/png": "[encoded data removed]",
      "text/plain": [
       "Plot with title \"Daily Spending\""
      ]
     },
     "metadata": {},
     "output_type": "display_data"
    }
   ],
   "source": [
    "# after installing dplyr package, can use %>% \n",
    "# creates different variables that contain the sum of different categories while being grouped by order dates\n",
    "total_spent_per_day = df %>% group_by(Order.Date) %>% summarise(sum(Total.Charged))\n",
    "original_spent_per_day = df %>% group_by(Order.Date) %>% summarise(sum(Subtotal))\n",
    "tax_paid_per_day = df %>% group_by(Order.Date) %>% summarise(sum(Tax.Charged))\n",
    "promotions_per_day = df %>% group_by(Order.Date) %>% summarise(sum(Total.Promotions))\n",
    "\n",
    "# creates graph with multiple lines displaying different variables from table\n",
    "plot(total_spent_per_day, type = \"l\", col = \"blue\", main = \"Daily Spending\", xlab = \"Order Dates\", \n",
    "     ylab = \"Amount of Money (Dollars)\")  # makes blue line for \"Total Charged\" \n",
    "lines(original_spent_per_day, col = \"orange\")  # makes orange line for \"Subtotal\"\n",
    "lines(tax_paid_per_day, col = \"green\")   # makes green line for \"Tax Charged\"\n",
    "lines(promotions_per_day, col = \"red\")   # makes red line for \"Total Promotions\"\n",
    "\n",
    "legend(\"topleft\", legend = c(\"Total Charged\", \"Subtotal\", \"Tax Charged\", \"Total Promotions\"), \n",
    "       col=c(\"blue\", \"orange\",\"green\",\"red\"), lty= 1, cex=0.8)  # creates legend for different variables"
   ]
  }
 ],
 "metadata": {
  "kernelspec": {
   "display_name": "R",
   "language": "R",
   "name": "ir"
  },
  "language_info": {
   "codemirror_mode": "r",
   "file_extension": ".r",
   "mimetype": "text/x-r-source",
   "name": "R",
   "pygments_lexer": "r",
   "version": "3.6.1"
  }
 },
 "nbformat": 4,
 "nbformat_minor": 5
}
