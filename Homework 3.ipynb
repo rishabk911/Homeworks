{
 "cells": [
  {
   "cell_type": "markdown",
   "id": "1c65a730",
   "metadata": {},
   "source": [
    "Question 1: [1 point]"
   ]
  },
  {
   "cell_type": "markdown",
   "id": "a99b6135",
   "metadata": {},
   "source": [
    "Define a dictionary, composed with students name and their grade."
   ]
  },
  {
   "cell_type": "markdown",
   "id": "e19dfb6b",
   "metadata": {},
   "source": [
    "marks = {‘Andy’:88, ‘Amy’:66, 'James': 90, 'Jules': 55, 'Arthur': 77}"
   ]
  },
  {
   "cell_type": "markdown",
   "id": "ff47e445",
   "metadata": {},
   "source": [
    "Q1: Define a function, when call the function, only need to pass student’s name, your function will\n",
    "return this student’s grade. If the student name does not exit, print you cannot find this student’s name.\n",
    "(0.5 point)"
   ]
  },
  {
   "cell_type": "code",
   "execution_count": 76,
   "id": "a5fa5a4a",
   "metadata": {},
   "outputs": [
    {
     "data": {
      "text/plain": [
       "88"
      ]
     },
     "execution_count": 76,
     "metadata": {},
     "output_type": "execute_result"
    }
   ],
   "source": [
    "marks = {'Andy':88, 'Amy':66, 'James': 90, 'Jules': 55, 'Arthur': 77}\n",
    "def grade_for_student(name): \n",
    "    if name == 'Andy' or name == 'Amy' or name == 'James' or name == 'Jules' or name == 'Arthur':\n",
    "        return marks.get(name)\n",
    "    else:\n",
    "        return print(\"Student's name does not exist\")\n",
    "grade_for_student('Andy')"
   ]
  },
  {
   "cell_type": "code",
   "execution_count": 75,
   "id": "5bfbe14a",
   "metadata": {},
   "outputs": [
    {
     "name": "stdout",
     "output_type": "stream",
     "text": [
      "Student's name does not exist\n"
     ]
    }
   ],
   "source": [
    "grade_for_student('Steve')"
   ]
  },
  {
   "cell_type": "markdown",
   "id": "18ee812a",
   "metadata": {},
   "source": [
    "Q2: Define another function that will return the average grade for all the students. (0.5 point)"
   ]
  },
  {
   "cell_type": "code",
   "execution_count": 111,
   "id": "864927ae",
   "metadata": {},
   "outputs": [
    {
     "data": {
      "text/plain": [
       "75.2"
      ]
     },
     "execution_count": 111,
     "metadata": {},
     "output_type": "execute_result"
    }
   ],
   "source": [
    "import statistics as stats\n",
    "marks = {'Andy':88, 'Amy':66, 'James': 90, 'Jules': 55, 'Arthur': 77}\n",
    "def average_grade():\n",
    "    return stats.mean(marks.values())\n",
    "average_grade()"
   ]
  },
  {
   "cell_type": "markdown",
   "id": "6bf99a9a",
   "metadata": {},
   "source": [
    "Question 2: [0.5 point]"
   ]
  },
  {
   "cell_type": "markdown",
   "id": "371ae952",
   "metadata": {},
   "source": [
    "Define a function. Using While Loop. As long as n is less than num, print out n and square of n.\n",
    "Otherwise, print out “greater than” the num value. When you call your function, specify the num values\n",
    "as 8."
   ]
  },
  {
   "cell_type": "code",
   "execution_count": 125,
   "id": "439c982c",
   "metadata": {},
   "outputs": [
    {
     "name": "stdout",
     "output_type": "stream",
     "text": [
      "3 9\n",
      "4 16\n",
      "5 25\n",
      "6 36\n",
      "7 49\n",
      "9 is greater than 8\n"
     ]
    }
   ],
   "source": [
    "def myfunction(n,num):\n",
    "    while n < num:\n",
    "        print(n, n**2)\n",
    "        n = n + 1\n",
    "    n+=1\n",
    "    print(n ,\"is greater than\",num)\n",
    "myfunction(3,8)"
   ]
  },
  {
   "cell_type": "code",
   "execution_count": 112,
   "id": "eeaede0e",
   "metadata": {},
   "outputs": [
    {
     "data": {
      "text/plain": [
       "(3, 9)"
      ]
     },
     "execution_count": 112,
     "metadata": {},
     "output_type": "execute_result"
    }
   ],
   "source": [
    "#can define two parameters or just one parameter\n",
    "def original_and_squared(n,num):\n",
    "    if n == num:\n",
    "        print(n,\"is equal to\", num)\n",
    "    while n < num:\n",
    "        return n, n**2\n",
    "    if n > num:\n",
    "        print(n, \"is greater than\", num)\n",
    "original_and_squared(3,8)"
   ]
  },
  {
   "cell_type": "code",
   "execution_count": 113,
   "id": "3f5269a7",
   "metadata": {},
   "outputs": [
    {
     "name": "stdout",
     "output_type": "stream",
     "text": [
      "8 is equal to 8\n"
     ]
    }
   ],
   "source": [
    "original_and_squared(8,8)"
   ]
  },
  {
   "cell_type": "code",
   "execution_count": 114,
   "id": "b3b9bb6c",
   "metadata": {},
   "outputs": [
    {
     "name": "stdout",
     "output_type": "stream",
     "text": [
      "9 is greater than 8\n"
     ]
    }
   ],
   "source": [
    "original_and_squared(9,8)"
   ]
  },
  {
   "cell_type": "markdown",
   "id": "94905562",
   "metadata": {},
   "source": [
    "Question 3: [0.5 point]"
   ]
  },
  {
   "cell_type": "markdown",
   "id": "089552d9",
   "metadata": {},
   "source": [
    "Define a function. add all the integers from 1 to num, print out the sum. Using while loop. "
   ]
  },
  {
   "cell_type": "code",
   "execution_count": 126,
   "id": "0b33bada",
   "metadata": {},
   "outputs": [
    {
     "name": "stdout",
     "output_type": "stream",
     "text": [
      "0\n"
     ]
    }
   ],
   "source": [
    "def sum_num(num):\n",
    "    sum = 0\n",
    "    n = 1\n",
    "    while n < num:\n",
    "        sum = sum + n\n",
    "        n = n + 1\n",
    "    print(sum)\n",
    "sum_num(-10)"
   ]
  },
  {
   "cell_type": "code",
   "execution_count": 127,
   "id": "6d993ada",
   "metadata": {},
   "outputs": [
    {
     "name": "stdout",
     "output_type": "stream",
     "text": [
      "0\n"
     ]
    }
   ],
   "source": [
    "total_sum(0)"
   ]
  },
  {
   "cell_type": "code",
   "execution_count": 128,
   "id": "447186ee",
   "metadata": {},
   "outputs": [
    {
     "name": "stdout",
     "output_type": "stream",
     "text": [
      "1\n"
     ]
    }
   ],
   "source": [
    "total_sum(1)"
   ]
  },
  {
   "cell_type": "code",
   "execution_count": 129,
   "id": "25d5a6a2",
   "metadata": {},
   "outputs": [
    {
     "name": "stdout",
     "output_type": "stream",
     "text": [
      "15\n"
     ]
    }
   ],
   "source": [
    "total_sum(5)"
   ]
  },
  {
   "cell_type": "markdown",
   "id": "f9d42587",
   "metadata": {},
   "source": [
    "Question 4: [0.5 point]"
   ]
  },
  {
   "cell_type": "markdown",
   "id": "3ac9123b",
   "metadata": {},
   "source": [
    "Define a function. add all the integers from 1 to num, print out the sum at each step/iteration. Using for\n",
    "loop. "
   ]
  },
  {
   "cell_type": "code",
   "execution_count": 102,
   "id": "35fc49e3",
   "metadata": {},
   "outputs": [
    {
     "name": "stdout",
     "output_type": "stream",
     "text": [
      "0\n"
     ]
    }
   ],
   "source": [
    "def sum_per_step(num):\n",
    "    if num < 1:\n",
    "        print(0)\n",
    "    integer_sum = 0\n",
    "    for integer in range(1,num+1):\n",
    "        integer_sum += integer\n",
    "        print(integer_sum)\n",
    "sum_per_step(-10)"
   ]
  },
  {
   "cell_type": "code",
   "execution_count": 103,
   "id": "6e228d7c",
   "metadata": {},
   "outputs": [
    {
     "name": "stdout",
     "output_type": "stream",
     "text": [
      "0\n"
     ]
    }
   ],
   "source": [
    "sum_per_step(0)"
   ]
  },
  {
   "cell_type": "code",
   "execution_count": 104,
   "id": "7047672b",
   "metadata": {},
   "outputs": [
    {
     "name": "stdout",
     "output_type": "stream",
     "text": [
      "1\n"
     ]
    }
   ],
   "source": [
    "sum_per_step(1)"
   ]
  },
  {
   "cell_type": "code",
   "execution_count": 105,
   "id": "2ad46b75",
   "metadata": {},
   "outputs": [
    {
     "name": "stdout",
     "output_type": "stream",
     "text": [
      "1\n",
      "3\n",
      "6\n",
      "10\n",
      "15\n"
     ]
    }
   ],
   "source": [
    "sum_per_step(5)"
   ]
  },
  {
   "cell_type": "markdown",
   "id": "9e0e3749",
   "metadata": {},
   "source": [
    "Question 5: [0.5 point]"
   ]
  },
  {
   "cell_type": "markdown",
   "id": "6b461fc5",
   "metadata": {},
   "source": [
    "Define a function. For a given list, range (1, 100), calculate its mean, sum, and standard deviation. You\n",
    "can use built in function and package. "
   ]
  },
  {
   "cell_type": "code",
   "execution_count": 72,
   "id": "1f55bd68",
   "metadata": {},
   "outputs": [
    {
     "data": {
      "text/plain": [
       "(50, 4950, 28.722813232690143)"
      ]
     },
     "execution_count": 72,
     "metadata": {},
     "output_type": "execute_result"
    }
   ],
   "source": [
    "import statistics as stats\n",
    "numbers = list(range(1,100))\n",
    "def calculations():\n",
    "    return stats.mean(numbers), sum(numbers), stats.pstdev(numbers)\n",
    "calculations()"
   ]
  },
  {
   "cell_type": "markdown",
   "id": "e383542d",
   "metadata": {},
   "source": [
    "Question 6: [2 point]"
   ]
  },
  {
   "cell_type": "markdown",
   "id": "903e8c83",
   "metadata": {},
   "source": [
    "Q1: Define a minimal function with 4 arguments. Your function will return the minimal value\n",
    "of the 4 arguments. (1 point)"
   ]
  },
  {
   "cell_type": "code",
   "execution_count": 25,
   "id": "6f47611d",
   "metadata": {},
   "outputs": [
    {
     "data": {
      "text/plain": [
       "-10"
      ]
     },
     "execution_count": 25,
     "metadata": {},
     "output_type": "execute_result"
    }
   ],
   "source": [
    "def minimal (v1,v2,v3,v4):\n",
    "    if v1 < v2 and v1 < v3 and v1 < v4:\n",
    "        return v1\n",
    "    elif v2 < v1 and v2 < v3 and v2 < v4:\n",
    "        return v2\n",
    "    elif v3 < v1 and v3 < v2 and v3 < v4:\n",
    "        return v3\n",
    "    elif v4 < v1 and v4 < v2 and v4 < v3:\n",
    "        return v4\n",
    "minimal(-10,45,21,0)"
   ]
  },
  {
   "cell_type": "markdown",
   "id": "e4402252",
   "metadata": {},
   "source": [
    "Q2: Define another function by calling the minimal function you defined in Q1, print out the returned minimal value. (1 point)"
   ]
  },
  {
   "cell_type": "code",
   "execution_count": 115,
   "id": "9b298aab",
   "metadata": {},
   "outputs": [
    {
     "data": {
      "text/plain": [
       "-10"
      ]
     },
     "execution_count": 115,
     "metadata": {},
     "output_type": "execute_result"
    }
   ],
   "source": [
    "def minimal (v1,v2,v3,v4):\n",
    "    if v1 < v2 and v1 < v3 and v1 < v4:\n",
    "        return v1\n",
    "    elif v2 < v1 and v2 < v3 and v2 < v4:\n",
    "        return v2\n",
    "    elif v3 < v1 and v3 < v2 and v3 < v4:\n",
    "        return v3\n",
    "    elif v4 < v1 and v4 < v2 and v4 < v3:\n",
    "        return v4\n",
    "def print_minimal(num1,num2,num3,num4):\n",
    "    x = minimal(num1,num2,num3,num4)\n",
    "    return x\n",
    "print_minimal(-10,45,21,0)"
   ]
  }
 ],
 "metadata": {
  "kernelspec": {
   "display_name": "Python 3 (ipykernel)",
   "language": "python",
   "name": "python3"
  },
  "language_info": {
   "codemirror_mode": {
    "name": "ipython",
    "version": 3
   },
   "file_extension": ".py",
   "mimetype": "text/x-python",
   "name": "python",
   "nbconvert_exporter": "python",
   "pygments_lexer": "ipython3",
   "version": "3.9.7"
  }
 },
 "nbformat": 4,
 "nbformat_minor": 5
}
