{
 "cells": [
  {
   "cell_type": "markdown",
   "id": "4d5808b3",
   "metadata": {},
   "source": [
    "Question 1. Write code for each step. Total [1.5 points]\n",
    "Generate a list of numbers from 30 to 60 with interval 5, using range. For example,30,35,40,...60 [0.5 points]"
   ]
  },
  {
   "cell_type": "code",
   "execution_count": 26,
   "id": "5a31e5e6",
   "metadata": {},
   "outputs": [
    {
     "name": "stdout",
     "output_type": "stream",
     "text": [
      "[30, 35, 40, 45, 50, 55, 60]\n"
     ]
    }
   ],
   "source": [
    "numbers = list(range(30,65,5))\n",
    "print(numbers)"
   ]
  },
  {
   "cell_type": "markdown",
   "id": "67d29e55",
   "metadata": {},
   "source": [
    "Order your list in reversed order. [0.5 points]"
   ]
  },
  {
   "cell_type": "code",
   "execution_count": 27,
   "id": "81a4cf2b",
   "metadata": {},
   "outputs": [
    {
     "name": "stdout",
     "output_type": "stream",
     "text": [
      "[60, 55, 50, 45, 40, 35, 30]\n"
     ]
    }
   ],
   "source": [
    "print(numbers[::-1])"
   ]
  },
  {
   "cell_type": "markdown",
   "id": "981d252a",
   "metadata": {},
   "source": [
    "Then insert 65 to the beginning of your new list. [0.5 point] The final resulting list will look like 65, 60, …, 30."
   ]
  },
  {
   "cell_type": "code",
   "execution_count": 28,
   "id": "4509fa39",
   "metadata": {},
   "outputs": [
    {
     "name": "stdout",
     "output_type": "stream",
     "text": [
      "[65, 60, 55, 50, 45, 40, 35, 30]\n"
     ]
    }
   ],
   "source": [
    "reverse_numbers = numbers[::-1]\n",
    "reverse_numbers.insert(0,65)\n",
    "print(reverse_numbers)"
   ]
  },
  {
   "cell_type": "markdown",
   "id": "e4b09008",
   "metadata": {},
   "source": [
    "Question 2. Write code based on the following steps. Total [2 points]"
   ]
  },
  {
   "cell_type": "markdown",
   "id": "214ae5e0",
   "metadata": {},
   "source": [
    "Create an empty list. Append integers from 0 to 20 to this list; [0.5 points]"
   ]
  },
  {
   "cell_type": "code",
   "execution_count": 29,
   "id": "1be7c7bf",
   "metadata": {},
   "outputs": [
    {
     "name": "stdout",
     "output_type": "stream",
     "text": [
      "[0, 1, 2, 3, 4, 5, 6, 7, 8, 9, 10, 11, 12, 13, 14, 15, 16, 17, 18, 19, 20]\n"
     ]
    }
   ],
   "source": [
    "integers = []\n",
    "for integer in range(0,21):\n",
    "    integers.append(integer)\n",
    "print(integers)"
   ]
  },
  {
   "cell_type": "markdown",
   "id": "4b50df23",
   "metadata": {},
   "source": [
    "delete item 0; [0.5 points]"
   ]
  },
  {
   "cell_type": "code",
   "execution_count": 30,
   "id": "45adddf1",
   "metadata": {},
   "outputs": [
    {
     "name": "stdout",
     "output_type": "stream",
     "text": [
      "[1, 2, 3, 4, 5, 6, 7, 8, 9, 10, 11, 12, 13, 14, 15, 16, 17, 18, 19, 20]\n"
     ]
    }
   ],
   "source": [
    "integers.remove(integers[0])\n",
    "print(integers)"
   ]
  },
  {
   "cell_type": "markdown",
   "id": "11fda191",
   "metadata": {},
   "source": [
    "return the length, maximal and minimal values of the newest list; [0.5 points]"
   ]
  },
  {
   "cell_type": "code",
   "execution_count": 31,
   "id": "fb6ce1aa",
   "metadata": {},
   "outputs": [
    {
     "name": "stdout",
     "output_type": "stream",
     "text": [
      "20\n",
      "20\n",
      "1\n"
     ]
    }
   ],
   "source": [
    "print(len(integers))\n",
    "print(max(integers))\n",
    "print(min(integers))"
   ]
  },
  {
   "cell_type": "markdown",
   "id": "3ccaf123",
   "metadata": {},
   "source": [
    "sum up all the items, e.g: 0+1+2+3+…+20 [0.5 points]"
   ]
  },
  {
   "cell_type": "code",
   "execution_count": 32,
   "id": "f2aade6a",
   "metadata": {},
   "outputs": [
    {
     "name": "stdout",
     "output_type": "stream",
     "text": [
      "210\n"
     ]
    }
   ],
   "source": [
    "sum = 0\n",
    "for integer in range(1,21):\n",
    "    sum += integer\n",
    "print(sum)"
   ]
  },
  {
   "cell_type": "markdown",
   "id": "510ca044",
   "metadata": {},
   "source": [
    "Question 3. Create a weather dictionary. Using for loop, print out all the keys and values in the same line. [1 point]"
   ]
  },
  {
   "cell_type": "code",
   "execution_count": 33,
   "id": "d53936f3",
   "metadata": {},
   "outputs": [
    {
     "name": "stdout",
     "output_type": "stream",
     "text": [
      "{'Sunny': 'play', 'Rainy': 'watch TV', 'Cloudy': 'walk'}\n",
      "When Sunny let us play\n",
      "When Rainy let us watch TV\n",
      "When Cloudy let us walk\n"
     ]
    }
   ],
   "source": [
    "weather = {\"Sunny\":\"play\",\"Rainy\":\"watch TV\", \"Cloudy\":\"walk\"}\n",
    "print(weather)\n",
    "for key,value in weather.items():\n",
    "    print(\"When \" + key + \" let us \" + value)  "
   ]
  },
  {
   "cell_type": "markdown",
   "id": "0c75c8c2",
   "metadata": {},
   "source": [
    "Then add a new pair (“snowy”, “ski”) to your dictionary. [0.5 point]"
   ]
  },
  {
   "cell_type": "code",
   "execution_count": 34,
   "id": "17511ce6",
   "metadata": {},
   "outputs": [
    {
     "name": "stdout",
     "output_type": "stream",
     "text": [
      "{'Sunny': 'play', 'Rainy': 'watch TV', 'Cloudy': 'walk', 'snowy': 'ski'}\n"
     ]
    }
   ],
   "source": [
    "weather[\"snowy\"] = \"ski\"\n",
    "print(weather)   "
   ]
  }
 ],
 "metadata": {
  "kernelspec": {
   "display_name": "Python 3 (ipykernel)",
   "language": "python",
   "name": "python3"
  },
  "language_info": {
   "codemirror_mode": {
    "name": "ipython",
    "version": 3
   },
   "file_extension": ".py",
   "mimetype": "text/x-python",
   "name": "python",
   "nbconvert_exporter": "python",
   "pygments_lexer": "ipython3",
   "version": "3.9.7"
  }
 },
 "nbformat": 4,
 "nbformat_minor": 5
}
