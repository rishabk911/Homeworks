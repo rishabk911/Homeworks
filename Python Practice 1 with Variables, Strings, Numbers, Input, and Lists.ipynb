{
 "cells": [
  {
   "cell_type": "code",
   "execution_count": 3,
   "id": "7c69b62b",
   "metadata": {},
   "outputs": [
    {
     "name": "stdout",
     "output_type": "stream",
     "text": [
      "   /|\n",
      "  / |\n",
      " /  |\n",
      "/___|\n"
     ]
    }
   ],
   "source": [
    "#1.Working with Shapes\n",
    "#This prints triangle\n",
    "print(\"   /|\")\n",
    "print(\"  / |\")\n",
    "print(\" /  |\")\n",
    "print(\"/___|\")"
   ]
  },
  {
   "cell_type": "code",
   "execution_count": 37,
   "id": "cbf8d30b",
   "metadata": {},
   "outputs": [
    {
     "name": "stdout",
     "output_type": "stream",
     "text": [
      "There once was a man named John, \n",
      "he was 35 years old. \n",
      "He really liked the name John, \n",
      "but didn't like being 35.\n",
      "There once was a man named Tom, \n",
      "he was 50 years old. \n",
      "He really liked the name Mike, \n",
      "but didn't like being 50.\n"
     ]
    }
   ],
   "source": [
    "#2.Variables and Data Types\n",
    "character_name = \"John\" #use _ when spacing stuff out in variable names\n",
    "character_age = \"35\"\n",
    "print(\"There once was a man named \" + character_name + \", \") #need space before \" since you want space in actual output\n",
    "print(\"he was \" + character_age + \" years old. \") #use + sign to add varibale into string\n",
    "print(\"He really liked the name \" + character_name + \", \")\n",
    "print(\"but didn't like being \" + character_age + \".\")\n",
    "character_name = \"Tom\"  #changing character_name from John to Tom also changes name in story\n",
    "character_age = \"50\"\n",
    "is_male = True   #boolean variable that returns true or false\n",
    "print(\"There once was a man named \" + character_name + \", \") #prints There once was a named Tom,\n",
    "print(\"he was \" + character_age + \" years old. \") #prints he was 50 years old.\n",
    "character_name = \"Mike\"  #python will change name to Mike before doing rest of story\n",
    "print(\"He really liked the name \" + character_name + \", \") #prints He really liked the name Mike\n",
    "print(\"but didn't like being \" + character_age + \".\") #but didn't really like being 50."
   ]
  },
  {
   "cell_type": "code",
   "execution_count": 6,
   "id": "c4af1ca7",
   "metadata": {},
   "outputs": [
    {
     "name": "stdout",
     "output_type": "stream",
     "text": [
      "Giraffe Academy\n",
      "Giraffe Academy is cool\n",
      "Giraffe\n",
      "Academy\n",
      "Giraffe\"Academy\n",
      "Giraffe\\Academy\n",
      "giraffe academy\n",
      "GIRAFFE ACADEMY\n",
      "False\n",
      "True\n",
      "15\n",
      "a\n",
      "0\n",
      "8\n",
      "Elephant Academy\n"
     ]
    }
   ],
   "source": [
    "#3.Working with strings\n",
    "phrase = \"Giraffe Academy\"  #for string variable, need quotation marks\n",
    "print(\"Giraffe Academy\")    #just prints Giraffe Academy\n",
    "print(phrase + \" is cool\")  #prints Giraffe Academy is cool--this is concatenation where you take one string & add another to it\n",
    "print(\"Giraffe\\nAcademy\")   # \\n means that the rest of the string gets printed on new line\n",
    "print(\"Giraffe\\\"Academy\")   # \\ is escape character and \\\" tells Phython to print quotation mark, so it prints Giraffe\"Academy\n",
    "print(\"Giraffe\\Academy\")    #prints Giraffe\\Academy so \\ is part of text  \n",
    "#testing different functions which are blocks of code that run specific functions\n",
    "print(phrase.lower())       # .lower() function makes everything lowercase so this code prints giraffe academy\n",
    "print(phrase.upper())       # .upper() function makes everything uppercase so this code prints GIRAFFE ACADEMY\n",
    "print(phrase.isupper())     # .isupper() function tells whether variable is all uppercase, so it returns false for phrase\n",
    "print(phrase.upper().isupper()) #this makes phrase all upper case and then checks to see if it all upper case so it returns true\n",
    "print(len(phrase)) #len(variable) is length function which finds num of characters in string, so prints 15 for Giraffe Academy \n",
    "print(phrase[3])  #[] means it looks for value of string at whatever number is in [], index starts at 0 for string so [3] is a\n",
    "print(phrase.index(\"G\"))  # .index function tells us where specific character/string is located in string--> for G, index is 0 \n",
    "# .index function allows you to put value in () which is called passing a parameter --> shows error if parameter not in string\n",
    "print(phrase.index(\"Acad\"))  #if you do this for Acad, then it outputs where Acad string starts which is at index position 8\n",
    "print(phrase.replace(\"Giraffe\",\"Elephant\"))  # .replace function needs two parameters--> replaces Giraffe with Elephant\n",
    "# first parameter is what you want to replace and second is what you want to replace it with --> prints Elephant Academy now"
   ]
  },
  {
   "cell_type": "code",
   "execution_count": 7,
   "id": "b4175c2c",
   "metadata": {},
   "outputs": [
    {
     "name": "stdout",
     "output_type": "stream",
     "text": [
      "2\n",
      "2.0987\n",
      "-2.0987\n",
      "7.5\n",
      "-1.5\n",
      "13.5\n",
      "0.6666666666666666\n",
      "17\n",
      "27\n",
      "1\n",
      "-5\n",
      "-5\n",
      "-5 is my favorite number\n",
      "5\n",
      "9.0\n",
      "6\n",
      "4\n",
      "3\n",
      "4\n",
      "3\n",
      "4\n",
      "6.0\n"
     ]
    }
   ],
   "source": [
    "#4.Working with Numbers\n",
    "print(2)   #prints 2 onto screen \n",
    "print(2.0987)  #prints 2.0987 onto screen\n",
    "print(-2.0987) #prints -2.0987 onto screen\n",
    "print(3 + 4.5) #prints 7.5 onto screen (+ is addition)\n",
    "print(3 - 4.5) #prints -1.5 onto screen (- is subtraction)\n",
    "print(3 * 4.5) #prints 13.5 onto screen (* is multiplication)\n",
    "print(3 / 4.5) #prints 0.66666 onto screen (/ is division)\n",
    "print(3 * 4 + 5)  #prints 17 onto screen since multiplication before addition in order of operations\n",
    "print(3 * (4 + 5))  #prints 27 since it does 4+5 an then muliplies by 3, so it follows order of operations\n",
    "print(10 % 3)  # % is called modulus operator which divides first number by second number & outputs remainder -> prints 1\n",
    "my_num = -5  #makes variable my_num and gives it value of 5, no quotes emans it's not a string variable\n",
    "print(my_num)  #prints my_num so it prints 5\n",
    "print(str(my_num))  # str() makes whatever's in () into string --> prints 5 but now 5 is string variable instead of a number\n",
    "print(str(my_num) + \" is my favorite number\") #connects my_name with another string which prints \"is my favorite number\"\n",
    "# to print out a number next to a string, need to convert it into a string first or python will have error\n",
    "# many functions for numbers just like with strings\n",
    "print(abs(my_num)) #abs() function gives absolute value of parameter -> prints 5 in this case \n",
    "print(pow(3,2))  #pow() function takes 3 and raises it to power of 2 --> 3^2=9, so 9 gets printed\n",
    "#pow function needs two parameters - first is number and second is what power you want\n",
    "print(max(4,6)) #max() function prints whichever parameter is bigger, so it prints 6 in this case\n",
    "print(min(4,6)) #min() function prints whichever parameter is smaller, so it prints 4 in this case\n",
    "print(round(3.2))  #round() rounds number to nearest whole number so 3 in this case\n",
    "print(round(3.7))  #round() rounds to nearest whole number so this would print 4\n",
    "from math import * #python goes and grabs more math functions, we get access to more math functions\n",
    "print(floor(3.7))  #floor() function grabs lower number in parameter, so it chops off decimal point -> prints 3 in this case\n",
    "print(ceil(3.7))  #ceil() function will round up number no matter what whether it is 3.7 or 3.2\n",
    "print(sqrt(36))  #sqrt() function takes square root of parameter so it prints 6.0 in this case"
   ]
  },
  {
   "cell_type": "code",
   "execution_count": 10,
   "id": "21cbb5fe",
   "metadata": {},
   "outputs": [
    {
     "name": "stdout",
     "output_type": "stream",
     "text": [
      "Enter your name: Rishab\n",
      "Enter your age: 21\n",
      "Hello Rishab! You are 21 years old.\n"
     ]
    }
   ],
   "source": [
    "#5.Getting Input from Users\n",
    "#input() tells python that they want input from user and user can type in information in () which is prompt\n",
    "name = input(\"Enter your name: \")  #takes value inputted by user and stores it in variable called name\n",
    "age = input(\"Enter your age: \")\n",
    "print(\"Hello \" + name + \"! You are \" + age + \" years old.\")  #prints Hello and whatever is inputted and also age inputted"
   ]
  },
  {
   "cell_type": "code",
   "execution_count": 19,
   "id": "daf7a89c",
   "metadata": {},
   "outputs": [
    {
     "name": "stdout",
     "output_type": "stream",
     "text": [
      "Enter a number: 5\n",
      "Enter another number: 40\n",
      "45.0\n"
     ]
    }
   ],
   "source": [
    "#6.Building a Basic Calculator\n",
    "num1 = input(\"Enter a number: \")  #asks user to input one number and stores value in num1 variable which becomes string variable\n",
    "num2 = input(\"Enter another number: \")   #asks user to input another number & stores value in num2 variable, also becomes string\n",
    "#result = num1 + num2   #adds two numbers inputted by user and stores sum in result variable (actually adding two strings)\n",
    "#print(result) prints sum of two numbers inputted by user--> but ends up treating numbers as strings\n",
    "#if user inputs 5 and 8.3, then python prints 58.3 since anything inputted by user automatically gets converted into string\n",
    "#result = int(num1) + int(num2)  #int function changes parameter to whole number so it can't have decimal\n",
    "#now, num1 and num2 are numbers and not strings --> if user inputs decimal while using int fucntion, then it gets error\n",
    "#to input decimals, need to use float function which can add numbers even if one is decimal, both are decimals, or none are\n",
    "result = float(num1) + float(num2) #takes numbers and adds them, this time even allowing decimals (if add 3+2, returns 5.0)\n",
    "print(result)  #prints sum of numbers inputted"
   ]
  },
  {
   "cell_type": "code",
   "execution_count": 38,
   "id": "3d5e1876",
   "metadata": {},
   "outputs": [
    {
     "name": "stdout",
     "output_type": "stream",
     "text": [
      "Enter a color: Magenta\n",
      "Enter a plural noun: Microwaves\n",
      "Enter a celebrity: Tom Hanks\n",
      "Roses are Magenta\n",
      "Microwaves are blue\n",
      "I love Tom Hanks\n"
     ]
    }
   ],
   "source": [
    "#7.Mad Libs Game\n",
    "color = input(\"Enter a color: \")   #python asks user to input color and stores value in color variable\n",
    "plural_noun = input(\"Enter a plural noun: \")    #python asks user to input plural noun and stores value in plural noun variable\n",
    "celebrity = input(\"Enter a celebrity: \")   #python asks user to input name of celebrity and stores value in celebrity variable\n",
    "print(\"Roses are \" + color) #prints \"Roses are (whatever color user inputted)\"  \n",
    "print(plural_noun + \" are blue\")    #prints \"(plural noun user inputted) are blue\"\n",
    "print(\"I love \" + celebrity)   #prints \"I love (celebrity user inputted)\""
   ]
  },
  {
   "cell_type": "code",
   "execution_count": 29,
   "id": "19114951",
   "metadata": {},
   "outputs": [
    {
     "name": "stdout",
     "output_type": "stream",
     "text": [
      "['Kevin', 'Karen', 'Jim', 'Oscar', 'Toby']\n",
      "Kevin\n",
      "Toby\n",
      "['Karen', 'Jim', 'Oscar', 'Toby']\n",
      "['Karen', 'Jim']\n",
      "Mike\n"
     ]
    }
   ],
   "source": [
    "#8.Lists\n",
    "#Lists are structures to store lists of information which make it easy to keep track of, use [] to store values in list\n",
    "friends = [\"Kevin\", \"Karen\", \"Jim\", \"Oscar\", \"Toby\"]  #stores multiple friends' names in list called friends\n",
    "#can put strings, numbers, or booleans in list  --> values in list start with index of 0, index of \"Kevin\" is 0\n",
    "print(friends)  #prints out all values in list, so it prints ['Kevin', 'Karen', 'Jim'] --> \" in code shows up as ' on screen\n",
    "print(friends[0])  #accesses value in list that's located at index 0 which is Kevin, [1] would be Karen and [2] would be Jim\n",
    "print(friends[-1])  #accesses value from back of list which is Jim, [-2] would be Karen and [-3] would be Kevin\n",
    "print(friends[1:])  #accesses value at index 1 and everything after\n",
    "print(friends[1:3])  #acceses value at index 1 and goes up to but does not include index 3, only Karen and Jim get accessed\n",
    "friends[1] = \"Mike\"  #looks at value in index 1 of list and changes value to Mike, so Karen becomes Mike\n",
    "print(friends[1])    #now when it prints the value at index 1, Mike comes out"
   ]
  },
  {
   "cell_type": "code",
   "execution_count": 36,
   "id": "087fbc72",
   "metadata": {},
   "outputs": [
    {
     "name": "stdout",
     "output_type": "stream",
     "text": [
      "['Kevin', 'Karen', 'Jim', 'Oscar', 'Toby']\n",
      "['Kevin', 'Karen', 'Jim', 'Oscar', 'Toby', 4, 8, 15, 16, 23, 42]\n",
      "['Kevin', 'Karen', 'Jim', 'Oscar', 'Toby', 'Creed']\n",
      "['Kevin', 'Kelly', 'Karen', 'Jim', 'Oscar', 'Toby']\n",
      "['Kevin', 'Karen', 'Oscar', 'Toby']\n",
      "[]\n",
      "['Kevin', 'Karen', 'Jim', 'Oscar']\n",
      "0\n",
      "2\n",
      "['Jim', 'Jim', 'Karen', 'Kevin', 'Oscar', 'Toby']\n",
      "[8, 15, 16, 23, 42]\n",
      "[23, 16, 15, 8, 42]\n",
      "['Kevin', 'Karen', 'Jim', 'Jim', 'Oscar', 'Toby']\n"
     ]
    }
   ],
   "source": [
    "#9.List Functions\n",
    "#List aollows you to take many different values and organize and store them in their own list structure\n",
    "lucky_numbers = [4, 8, 15, 16, 23, 42]  #list of lucky numbers\n",
    "friends = [\"Kevin\", \"Karen\", \"Jim\", \"Oscar\", \"Toby\"]   #list with names of friends\n",
    "#many different list functions to modify lists\n",
    "print(friends)  #prints out all values of friends list\n",
    "friends.extend(lucky_numbers)  # .extend() adds lists togther -> prints out values of friends followed by lucky_numbers values\n",
    "print(friends) #prints ['Kevin', 'Karen', 'Jim', 'Oscar', 'Toby', 4, 8, 15, 16, 23, 42]\n",
    "friends = [\"Kevin\", \"Karen\", \"Jim\", \"Oscar\", \"Toby\"]  #resets value of friends list to original\n",
    "friends.append(\"Creed\")  # .append() adds value at end of list -> adds Creed to friends list so creed gets printed in list too\n",
    "print(friends)  #prints ['Kevin', 'Karen', 'Jim', 'Oscar', 'Toby', 'Creed'] since Creed gets added to end of list\n",
    "friends = [\"Kevin\", \"Karen\", \"Jim\", \"Oscar\", \"Toby\"]  #resets value of friends list to original\n",
    "friends.insert(1, \"Kelly\")  #.insert() needs two parameters, first is index position to replace & second is what to replace with\n",
    "print(friends) #prints ['Kevin', 'Kelly', 'Karen', Jim', 'Oscar', 'Toby'] since puts Kelly in index 1 & moves everything right\n",
    "friends = [\"Kevin\", \"Karen\", \"Jim\", \"Oscar\", \"Toby\"]  #resets value of friends list to original\n",
    "friends.remove(\"Jim\")  #.remove() removes value in () so it removes Jim from list in this case\n",
    "print(friends)   #prints ['Kevin', 'Karen', 'Oscar', 'Toby']\n",
    "friends = [\"Kevin\", \"Karen\", \"Jim\", \"Oscar\", \"Toby\"]  #resets value of friends list to original\n",
    "friends.clear()  #.clear() gets rid of everything in list so friends list becomes blank and would print just []\n",
    "print(friends)   #prints just []\n",
    "friends = [\"Kevin\", \"Karen\", \"Jim\", \"Oscar\", \"Toby\"]  #resets value of friends list to original\n",
    "friends.pop() #.pop() gets rid of last element in list --> it would print ['Kevin', 'Karen', 'Jim', 'Oscar']\n",
    "print(friends)\n",
    "friends = [\"Kevin\", \"Karen\", \"Jim\", \"Oscar\", \"Toby\"]  #resets value of friends list to original\n",
    "print(friends.index(\"Kevin\")) #prints 0 since Kevin located at index 0 --> error if name not in list like Mike\n",
    "friends.insert(2, \"Jim\")  #insert Jim in index 2 and moves everything in list right\n",
    "#friends list is now ['Kevin', 'Karen', 'Jim', 'Jim', 'Oscar', 'Toby']\n",
    "print(friends.count(\"Jim\"))  #.count() counts how many times parameter appears in list-> prints 2 since Jim appears twice\n",
    "#right now, friends is ['Kevin', 'Karen', 'Jim', 'Jim', 'Oscar', 'Toby']\n",
    "friends.sort() #.sort() sorts list in ascending order (alphabetical for strings and least to greatest for numbers)\n",
    "lucky_numbers = [42, 8, 15, 16, 23]  #resets value of lucky_numbers to one where 42 replaces 4 and is first in list\n",
    "lucky_numbers.sort()  #sorts lucky_numbers list from least to greatest values\n",
    "print(friends) #prints ['Jim', Jim', 'Karen', 'Kevin', 'Oscar', 'Toby'] which is list in alphabetical order\n",
    "friends = [\"Kevin\", \"Karen\", \"Jim\", \"Jim\", \"Oscar\", \"Toby\"]   #puts list back to normal after sorting in alphabetical order\n",
    "print(lucky_numbers) #prints [8, 15, 16, 23, 42] which is list with least to greatest values\n",
    "lucky_numbers = [42, 8, 15, 16, 23]   #resets value of lucky_numbers list\n",
    "lucky_numbers.reverse()  #reverse() reverses order of values in list\n",
    "print(lucky_numbers)  #prints [23, 16, 15, 8, 42] which is reverse order of values in lucky_numbers list\n",
    "friends2 = friends.copy() #.copy() creates new list with same attributes as what comes before it\n",
    "#this creates a new list called friends2 which looks exactly like the friends list and so has the same values\n",
    "print(friends2) #prints ['Kevin', 'Karen', 'Jim', 'Jim', 'Oscar', 'Toby']"
   ]
  },
  {
   "cell_type": "code",
   "execution_count": null,
   "id": "5a11d099",
   "metadata": {},
   "outputs": [],
   "source": []
  }
 ],
 "metadata": {
  "kernelspec": {
   "display_name": "Python 3 (ipykernel)",
   "language": "python",
   "name": "python3"
  },
  "language_info": {
   "codemirror_mode": {
    "name": "ipython",
    "version": 3
   },
   "file_extension": ".py",
   "mimetype": "text/x-python",
   "name": "python",
   "nbconvert_exporter": "python",
   "pygments_lexer": "ipython3",
   "version": "3.9.7"
  }
 },
 "nbformat": 4,
 "nbformat_minor": 5
}
